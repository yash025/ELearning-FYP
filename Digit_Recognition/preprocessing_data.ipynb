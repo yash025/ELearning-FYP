{
 "metadata": {
  "language_info": {
   "codemirror_mode": {
    "name": "ipython",
    "version": 3
   },
   "file_extension": ".py",
   "mimetype": "text/x-python",
   "name": "python",
   "nbconvert_exporter": "python",
   "pygments_lexer": "ipython3",
   "version": "3.9.0-final"
  },
  "orig_nbformat": 2,
  "kernelspec": {
   "name": "python3",
   "display_name": "Python 3.9.0 64-bit",
   "metadata": {
    "interpreter": {
     "hash": "ac59ebe37160ed0dfa835113d9b8498d9f09ceb179beaac4002f036b9467c963"
    }
   }
  }
 },
 "nbformat": 4,
 "nbformat_minor": 2,
 "cells": [
  {
   "cell_type": "code",
   "execution_count": 75,
   "metadata": {},
   "outputs": [],
   "source": [
    "import numpy\n",
    "import numpy as np\n",
    "import matplotlib.pyplot as plt\n",
    "from tqdm import tqdm\n",
    "import csv\n",
    "import random"
   ]
  },
  {
   "cell_type": "code",
   "execution_count": 76,
   "metadata": {},
   "outputs": [],
   "source": [
    "TRAIN_DIR = \"C:/Users/Yashwanth/Downloads/Datasets/Handwritten_digit_dataset/train.csv\"\n",
    "TEST_DIR = \"C:/Users/Yashwanth/Downloads/Datasets/Handwritten_digit_dataset/test.csv\"\n",
    "IMG_SIZE = 28"
   ]
  },
  {
   "cell_type": "code",
   "execution_count": 77,
   "metadata": {},
   "outputs": [],
   "source": [
    "def chunks(l):\n",
    "    return [l[i:i+28] for i in range(0, len(l), 28)]"
   ]
  },
  {
   "cell_type": "code",
   "execution_count": 78,
   "metadata": {},
   "outputs": [],
   "source": [
    "# For Testing the images\n",
    "def display_image(img):\n",
    "    img = numpy.array(img, dtype=numpy.uint8)\n",
    "    plt.imshow(img,cmap = \"gray\")\n",
    "    plt.show()"
   ]
  },
  {
   "cell_type": "code",
   "execution_count": 79,
   "metadata": {
    "tags": []
   },
   "outputs": [],
   "source": [
    "def create_training_data():\n",
    "    with open(TRAIN_DIR, newline='') as f:\n",
    "        reader = csv.reader(f)\n",
    "        data = list(reader)\n",
    "    train_data = []\n",
    "    data = data[1:len(data)]\n",
    "    for i in tqdm(data):\n",
    "        label = i[0]\n",
    "        img = chunks(i[1:len(i)])\n",
    "        img = numpy.array(img, dtype=np.uint8)\n",
    "        # display_image(img)\n",
    "        train_data.append([numpy.array(img),numpy.array(label)]) \n",
    "    return train_data"
   ]
  },
  {
   "cell_type": "code",
   "execution_count": 80,
   "metadata": {
    "tags": []
   },
   "outputs": [
    {
     "output_type": "stream",
     "name": "stderr",
     "text": [
      "100%|██████████| 42000/42000 [00:07<00:00, 5443.19it/s]\n"
     ]
    }
   ],
   "source": [
    "train_data = create_training_data()\n",
    "numpy.save(\"C:/Users/Yashwanth/Documents/Project/ELearning-FYP/Digit_Recognition/train_data.npy\",train_data) #Saving of train data to avoid doing preprocessing again and again"
   ]
  },
  {
   "cell_type": "code",
   "execution_count": 81,
   "metadata": {},
   "outputs": [
    {
     "output_type": "stream",
     "name": "stdout",
     "text": [
      "42000\n"
     ]
    }
   ],
   "source": [
    "train_data = numpy.load(\"C:/Users/Yashwanth/Documents/Project/ELearning-FYP/Digit_Recognition/train_data.npy\",allow_pickle=True) #Loading the data\n",
    "print(len(train_data))"
   ]
  },
  {
   "cell_type": "code",
   "execution_count": 82,
   "metadata": {},
   "outputs": [],
   "source": [
    "def create_testing_data():\n",
    "    with open(TEST_DIR, newline='') as f:\n",
    "        reader = csv.reader(f)\n",
    "        data = list(reader)\n",
    "    test_data = []\n",
    "    data = data[1:len(data)]\n",
    "    for i in tqdm(data):\n",
    "        img = chunks(i)\n",
    "        img = numpy.array(img, dtype=np.uint8)\n",
    "        # display_image(img)\n",
    "        test_data.append(np.array(img))\n",
    "    return test_data"
   ]
  },
  {
   "cell_type": "code",
   "execution_count": 83,
   "metadata": {},
   "outputs": [
    {
     "output_type": "stream",
     "name": "stderr",
     "text": [
      "100%|██████████| 28000/28000 [00:05<00:00, 5373.02it/s]\n"
     ]
    }
   ],
   "source": [
    "test_data = create_testing_data()\n",
    "numpy.save(\"C:/Users/Yashwanth/Documents/Project/ELearning-FYP/Digit_Recognition/test_data.npy\",test_data) #Saving of test data to avoid doing preprocessing again and again"
   ]
  },
  {
   "cell_type": "code",
   "execution_count": 84,
   "metadata": {},
   "outputs": [
    {
     "output_type": "stream",
     "name": "stdout",
     "text": [
      "28000\n"
     ]
    }
   ],
   "source": [
    "test_data = numpy.load(\"C:/Users/Yashwanth/Documents/Project/ELearning-FYP/Digit_Recognition/test_data.npy\",allow_pickle=True) #Loading the data\n",
    "print(len(test_data))"
   ]
  },
  {
   "cell_type": "code",
   "execution_count": 85,
   "metadata": {},
   "outputs": [],
   "source": [
    "random.shuffle(train_data)\n",
    "random.shuffle(test_data)"
   ]
  },
  {
   "cell_type": "code",
   "execution_count": 86,
   "metadata": {},
   "outputs": [],
   "source": [
    "x_train = []\n",
    "y_train = []\n",
    "for features,labels in train_data:\n",
    "    x_train.append(features)\n",
    "    y_train.append(labels)\n",
    "numpy.save(\"C:/Users/Yashwanth/Documents/Project/ELearning-FYP/Digit_Recognition/x_train.npy\", x_train)\n",
    "numpy.save(\"C:/Users/Yashwanth/Documents/Project/ELearning-FYP/Digit_Recognition/y_train.npy\", y_train)\n"
   ]
  },
  {
   "cell_type": "code",
   "execution_count": 87,
   "metadata": {},
   "outputs": [],
   "source": [
    "x_test = []\n",
    "for features in test_data:\n",
    "    x_test.append(features)\n",
    "numpy.save(\"C:/Users/Yashwanth/Documents/Project/ELearning-FYP/Digit_Recognition/x_test.npy\", x_test)\n"
   ]
  }
 ]
}